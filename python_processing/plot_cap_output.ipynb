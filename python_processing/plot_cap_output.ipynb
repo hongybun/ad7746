{
 "cells": [
  {
   "cell_type": "markdown",
   "id": "89151db7",
   "metadata": {},
   "source": [
    "# Data Collection\n",
    "## Setup"
   ]
  },
  {
   "cell_type": "markdown",
   "id": "27b3c1b3",
   "metadata": {},
   "source": [
    "Run this first. \n",
    "\n",
    "Check bottom section of this block to confirm the correct port number. Change the selected COM port if necessary."
   ]
  },
  {
   "cell_type": "code",
   "execution_count": null,
   "id": "c9fe1d37",
   "metadata": {},
   "outputs": [
    {
     "name": "stdout",
     "output_type": "stream",
     "text": [
      "['COM1', 'COM3', 'COM5']\n"
     ]
    }
   ],
   "source": [
    "import serial\n",
    "import sys\n",
    "import glob\n",
    "import re\n",
    "import numpy\n",
    "import pandas\n",
    "from matplotlib import pyplot\n",
    "from IPython.display import display, clear_output\n",
    "from pathlib import Path\n",
    "import datetime\n",
    "\n",
    "def serial_ports():\n",
    "    \"\"\" Lists serial port names\n",
    "\n",
    "        :raises EnvironmentError:\n",
    "            On unsupported or unknown platforms\n",
    "        :returns:\n",
    "            A list of the serial ports available on the system\n",
    "    \"\"\"\n",
    "    if sys.platform.startswith('win'): # Check if windows\n",
    "        ports = ['COM%s' % (i + 1) for i in range(256)]\n",
    "    elif sys.platform.startswith('linux') or sys.platform.startswith('cygwin'): # Check if Linux or WSL\n",
    "        # this excludes your current terminal \"/dev/tty\"\n",
    "        ports = glob.glob('/dev/tty[A-Za-z]*')\n",
    "    elif sys.platform.startswith('darwin'): # Check if AppleOS\n",
    "        ports = glob.glob('/dev/tty.*')\n",
    "    else:\n",
    "        raise EnvironmentError('Unsupported platform')\n",
    "\n",
    "    result = []\n",
    "    for port in ports: # List all open ports\n",
    "        try:\n",
    "            s = serial.Serial(port)\n",
    "            s.close()\n",
    "            result.append(port)\n",
    "        except (OSError, serial.SerialException):\n",
    "            pass\n",
    "    return result\n",
    "\n",
    "print(serial_ports())\n",
    "\n",
    "\"\"\"\n",
    "IMPORTANT: SEE BELOW\n",
    "\"\"\"\n",
    "# >>>>>>>>> MAY REQUIRE USER INPUT <<<<<<<<<\n",
    "# Select COM port\n",
    "com_port = \"COM3\" # Change this to the correct port for the Arduino (see print below)\n",
    "timeout = 5 \n",
    "\n",
    "# Get connection\n",
    "ser = serial.Serial(com_port, timeout=timeout)\n",
    "\n",
    "# Compile regex\n",
    "re_pattern = re.compile(r\"Time: (?P<Time>\\d+.\\d+) seconds  Capacitance: (?P<Capacitance>\\d+.\\d+) pF\")"
   ]
  },
  {
   "cell_type": "markdown",
   "id": "862caff0",
   "metadata": {},
   "source": [
    "# Collect Data"
   ]
  },
  {
   "cell_type": "markdown",
   "id": "4941d92b",
   "metadata": {},
   "source": [
    "Run this second. If it gives an error, keep clicking play until it doesn't :) \n",
    "\n",
    "You'll know it's working if there's a printout that's constantly changing and showing the current output of the AD7746.\n",
    "\n",
    "Press stop when you're completely done with testing and ready to store the collected data to a file."
   ]
  },
  {
   "cell_type": "code",
   "execution_count": null,
   "id": "0b509bad",
   "metadata": {},
   "outputs": [],
   "source": [
    "# Performance optimizations\n",
    "# pyplot.ioff()\n",
    "\n",
    "# Create a figure\n",
    "fig, ax = pyplot.subplots(figsize=(10, 2), dpi=200) # Figure size only necessary if live plot is enabled (see below)\n",
    "ax.set_xlabel(\"Time (seconds)\")\n",
    "ax.set_ylabel(\"Capacitance (pF)\")\n",
    "\n",
    "# Preallocate array memory\n",
    "array = numpy.empty((int(1e6), 2)) # Allocates array of 1,000,000 rows and 2 columns\n",
    "array[:,:] = numpy.nan # Initialize all cells in the array as NaN\n",
    "\n",
    "# Collect data\n",
    "try:\n",
    "    idx = 0\n",
    "    while True:\n",
    "        # Collect data and extract values\n",
    "        line = ser.readline()\n",
    "        match = re_pattern.match(line.decode('utf-8'))\n",
    "        print(line) # Print out current reading from Arduino to the console. \n",
    "\n",
    "        # Store data in the arrays\n",
    "        array[idx, 0] = float(match.group(\"Time\"))\n",
    "        array[idx, 1] = float(match.group(\"Capacitance\"))\n",
    "        idx += 1\n",
    "\n",
    "        # Display a live plot of the data. Currently disabled because it's extremely laggy. Maybe setup a moving window.\n",
    "        \"\"\"\n",
    "        ax.plot(array[:, 0], array[:, 1], color=\"blue\")\n",
    "        display(fig)\n",
    "        clear_output(wait=True)\n",
    "        \"\"\"\n",
    "\n",
    "except KeyboardInterrupt:\n",
    "    pass # expected -> what happens when you stop the cell"
   ]
  },
  {
   "cell_type": "markdown",
   "id": "4891024a",
   "metadata": {},
   "source": [
    "## Save Data"
   ]
  },
  {
   "cell_type": "markdown",
   "id": "e6215fd9",
   "metadata": {},
   "source": [
    "Run this after the previous block has been stopped to save all of the data collected from the previous step to a .csv."
   ]
  },
  {
   "cell_type": "code",
   "execution_count": null,
   "id": "5b8c6e9b",
   "metadata": {},
   "outputs": [],
   "source": [
    "# Create dataframe\n",
    "data_df = pandas.DataFrame(array, columns=['Time','Capacitance'])  # Name columns Time and Capacitance\n",
    "data_df = data_df.dropna() # Delete all rows without data (NaN)\n",
    "\n",
    "# Construct file name with current date and time\n",
    "now_time = datetime.datetime.now().isoformat(timespec=\"seconds\")\n",
    "now_time = now_time.replace(\":\", \"-\")\n",
    "data_file_name = \"cap_data_\" + now_time + \".csv\"\n",
    "\n",
    "# Path to base folder (Use forward slashes)\n",
    "data_base_path = Path(\"C:/Users/iSenSys/Desktop/Hongyu_Capacitive_Testing/testresults\")\n",
    "\n",
    "# Save file to path with filename\n",
    "data_df.to_csv(data_base_path / data_file_name)"
   ]
  },
  {
   "cell_type": "markdown",
   "id": "31777dde",
   "metadata": {},
   "source": [
    "## Shutdown Communications"
   ]
  },
  {
   "cell_type": "markdown",
   "id": "e9562467",
   "metadata": {},
   "source": [
    "Run this at the end if done with testing or to release COM3 for another program (like Arduino IDE) to communicate with the Ardunio on it. Can also restart kernel to release COM3."
   ]
  },
  {
   "cell_type": "code",
   "execution_count": null,
   "id": "f69aac9a",
   "metadata": {},
   "outputs": [],
   "source": [
    "ser.close()"
   ]
  }
 ],
 "metadata": {
  "kernelspec": {
   "display_name": "lab",
   "language": "python",
   "name": "python3"
  },
  "language_info": {
   "codemirror_mode": {
    "name": "ipython",
    "version": 3
   },
   "file_extension": ".py",
   "mimetype": "text/x-python",
   "name": "python",
   "nbconvert_exporter": "python",
   "pygments_lexer": "ipython3",
   "version": "3.11.13"
  }
 },
 "nbformat": 4,
 "nbformat_minor": 5
}
