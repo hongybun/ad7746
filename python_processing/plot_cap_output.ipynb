# Written for Jupyter Notebook

import serial
import sys
import glob
import re
import numpy as np
import pandas as pd
import matplotlib.pyplot as plt
from IPython.display import display, clear_output
from pathlib import Path
import datetime

def serial_ports():
    """ Lists serial port names

        :raises EnvironmentError:
            On unsupported or unknown platforms
        :returns:
            A list of the serial ports available on the system
    """
    if sys.platform.startswith('win'):
        ports = ['COM%s' % (i + 1) for i in range(256)]
    elif sys.platform.startswith('linux') or sys.platform.startswith('cygwin'):
        # this excludes your current terminal "/dev/tty"
        ports = glob.glob('/dev/tty[A-Za-z]*')
    elif sys.platform.startswith('darwin'):
        ports = glob.glob('/dev/tty.*')
    else:
        raise EnvironmentError('Unsupported platform')

    result = []
    for port in ports:
        try:
            s = serial.Serial(port)
            s.close()
            result.append(port)
        except (OSError, serial.SerialException):
            pass
    return result

print(serial_ports())

# >>>>>>>>> User Input <<<<<<<<<
com_port = "COM3"
timeout = 5
default_array_size = 1e6
data_base_path = Path("C:/Users/iSenSys/Downloads")

# Get connection
ser = serial.Serial(com_port, timeout=timeout)

# Compile regex
# re_pattern = re.compile(r"(?P<time>\d+.\d+) seconds (?P<cap>\d+.\d+) pF")  # < UNCOMMENT me when C code changed
re_pattern = re.compile(r"Capacitance: (?P<cap>\d+.\d+) pF")

# Check for expected initialization value
line = ser.readline()

# if line != b"Initializing\r\n":
#     raise SystemError(f"Unexpected response: {line}")

# Create a figure
fig, ax = plt.subplots(figsize=(10, 2), dpi=200)
ax.set_xlabel("Time")
ax.set_ylabel("Capacitance (pF)")

# Preallocate array memory
array = np.empty((int(default_array_size), 1))
array[:,:] = np.nan

# Collect data
try:
    idx = 0
    while True:
        # Collect data and extract values
        line = ser.readline()
        match = re_pattern.match(line.decode('utf-8'))

        # Store data
        array[idx, 0] = float(match.group("cap"))
        idx += 1

        # Plot it like its hot
        ax.plot(array[:, 0], color="blue")  # CHANGE ME: add x value for time
        display(fig)
        clear_output(wait=True)

except KeyboardInterrupt:
    pass # expected -> what happens when you stop the cell

# Create dataframe
data_df = pd.DataFrame(array, columns=['cap'])  # CHANGE ME: to include time
data_df = data_df.dropna()

# Construct file name
now_time = datetime.datetime.now().isoformat(timespec="seconds")
now_time = now_time.replace(":", "-")
data_file_name = "example_cap_data_" + now_time + ".csv"

# Save
data_df.to_csv(data_base_path / data_file_name)

# Shutdown communications
ser.close()
